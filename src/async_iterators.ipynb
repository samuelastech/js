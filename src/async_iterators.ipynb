{
 "cells": [
  {
   "cell_type": "markdown",
   "id": "bd69b6c4-b525-4209-8625-89b11d371c7b",
   "metadata": {},
   "source": [
    "# Async Iterators\n",
    "---"
   ]
  },
  {
   "cell_type": "markdown",
   "id": "29599722-5fba-4bb6-a313-97f2f8755bae",
   "metadata": {},
   "source": [
    "They are used when we have a promise inside our loop. Here is an example:"
   ]
  },
  {
   "cell_type": "code",
   "execution_count": 2,
   "id": "b32c7f76-4e1e-406f-9bb7-9958c065fdf2",
   "metadata": {},
   "outputs": [
    {
     "data": {
      "text/plain": [
       "Promise { <pending> }"
      ]
     },
     "execution_count": 2,
     "metadata": {},
     "output_type": "execute_result"
    },
    {
     "name": "stdout",
     "output_type": "stream",
     "text": [
      "{ value: 1, done: false }\n",
      "{ value: 2, done: false }\n",
      "{ value: 3, done: false }\n",
      "{ done: true }\n"
     ]
    }
   ],
   "source": [
    "const iterable = [1, 2, 3];\n",
    "\n",
    "iterable[Symbol.asyncIterator] = async function* () {\n",
    "    for (let i = 0; i < iterable.length; i++) {\n",
    "        yield { value: iterable[i], done: false, };\n",
    "    }\n",
    "    \n",
    "    yield { done: true };\n",
    "};\n",
    "\n",
    "(async () => {\n",
    "    for await (const number of iterable) {\n",
    "        console.log(number);\n",
    "    }\n",
    "})()"
   ]
  },
  {
   "cell_type": "markdown",
   "id": "160e6ba1-06c1-458b-875f-4c84fc37ed41",
   "metadata": {},
   "source": [
    "The for-await-of loop will wait for every promise it receives to resolve before moving on to the next one, as opposed to a regular for-of loop."
   ]
  },
  {
   "cell_type": "markdown",
   "id": "3cba72f7-14e7-4f67-bb1d-164a6936d0ba",
   "metadata": {},
   "source": [
    "Async iterators are very useful when dealing with **streams**. Readable, writable, duplex, and transform streams all have the asyncIterator symbol out of the box."
   ]
  },
  {
   "cell_type": "code",
   "execution_count": 6,
   "id": "0074437a-c8da-4554-a2c4-0fe6feda15db",
   "metadata": {
    "collapsed": true,
    "jupyter": {
     "outputs_hidden": true
    },
    "tags": []
   },
   "outputs": [
    {
     "data": {
      "text/plain": [
       "Server {\n",
       "  maxHeaderSize: undefined,\n",
       "  insecureHTTPParser: undefined,\n",
       "  requestTimeout: 300000,\n",
       "  headersTimeout: 60000,\n",
       "  keepAliveTimeout: 5000,\n",
       "  connectionsCheckingInterval: 30000,\n",
       "  joinDuplicateHeaders: undefined,\n",
       "  _events: [Object: null prototype] {\n",
       "    request: [AsyncFunction (anonymous)],\n",
       "    connection: [Function: connectionListener]\n",
       "  },\n",
       "  _eventsCount: 2,\n",
       "  _maxListeners: undefined,\n",
       "  _connections: 0,\n",
       "  _handle: null,\n",
       "  _usingWorkers: false,\n",
       "  _workers: [],\n",
       "  _unref: false,\n",
       "  allowHalfOpen: true,\n",
       "  pauseOnConnect: false,\n",
       "  noDelay: true,\n",
       "  keepAlive: false,\n",
       "  keepAliveInitialDelay: 0,\n",
       "  httpAllowHalfOpen: false,\n",
       "  timeout: 0,\n",
       "  maxHeadersCount: null,\n",
       "  maxRequestsPerSocket: 0,\n",
       "  [Symbol(IncomingMessage)]: [Function: IncomingMessage],\n",
       "  [Symbol(ServerResponse)]: [Function: ServerResponse],\n",
       "  [Symbol(kCapture)]: false,\n",
       "  [Symbol(async_id_symbol)]: -1,\n",
       "  [Symbol(http.server.connections)]: ConnectionsList {},\n",
       "  [Symbol(http.server.connectionsCheckingInterval)]: Timeout {\n",
       "    _idleTimeout: 30000,\n",
       "    _idlePrev: [TimersList],\n",
       "    _idleNext: [TimersList],\n",
       "    _idleStart: 1150,\n",
       "    _onTimeout: [Function: bound checkConnections],\n",
       "    _timerArgs: undefined,\n",
       "    _repeat: 30000,\n",
       "    _destroyed: false,\n",
       "    [Symbol(refed)]: false,\n",
       "    [Symbol(kHasPrimitive)]: false,\n",
       "    [Symbol(asyncId)]: 13,\n",
       "    [Symbol(triggerId)]: 10\n",
       "  },\n",
       "  [Symbol(kUniqueHeaders)]: null\n",
       "}"
      ]
     },
     "execution_count": 6,
     "metadata": {},
     "output_type": "execute_result"
    }
   ],
   "source": [
    "const http = require('node:http');\n",
    "\n",
    "http.createServer(async (request, response) => {\n",
    "    for await (const chunk of response) {\n",
    "        const body = chunk;\n",
    "        console.log(body);\n",
    "        response.end();\n",
    "    }\n",
    "});"
   ]
  },
  {
   "cell_type": "markdown",
   "id": "65871701-4621-4802-a4b9-4cd76feb7622",
   "metadata": {},
   "source": [
    "The `request` parameter is a Readable stream. Inside that, there is a `Symbol.asyncIterator` defined. So, you could iterate over each *chunk* like the code above instead of listening to the ‘data’ and ‘end’ events."
   ]
  },
  {
   "cell_type": "markdown",
   "id": "d848f747-1c91-425f-aa28-0f08545e1cc8",
   "metadata": {},
   "source": [
    "*OBS: In the above code we know we receive a single chunk from the request. For paginated APIs, you will need to concat those chunks. Also, you could implement a 'previous' and 'next' method to naviagte between paginated APIs.*"
   ]
  },
  {
   "cell_type": "markdown",
   "id": "775bd337-4f75-4eb5-9f30-1d79d1eb60b9",
   "metadata": {},
   "source": [
    "# References\n",
    "---"
   ]
  },
  {
   "cell_type": "markdown",
   "id": "c233a620-2561-4556-8720-c3f5a744849b",
   "metadata": {},
   "source": [
    "- https://blog.risingstack.com/async-iterators-in-node-js/"
   ]
  }
 ],
 "metadata": {
  "kernelspec": {
   "display_name": "JavaScript (Node.js)",
   "language": "javascript",
   "name": "javascript"
  },
  "language_info": {
   "file_extension": ".js",
   "mimetype": "application/javascript",
   "name": "javascript",
   "version": "19.6.0"
  }
 },
 "nbformat": 4,
 "nbformat_minor": 5
}
