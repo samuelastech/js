{
 "cells": [
  {
   "cell_type": "markdown",
   "id": "5a348736-22de-4e96-b1af-baffe63994fe",
   "metadata": {},
   "source": [
    "# Hoisting\n",
    "---"
   ]
  },
  {
   "cell_type": "markdown",
   "id": "a1837d47-157a-4c0c-8173-e716e5559b01",
   "metadata": {},
   "source": [
    "Hoisting is a behavior in which variable and function declarations are moved to the top of their respective scopes (either global or function) before the code is executed."
   ]
  },
  {
   "cell_type": "markdown",
   "id": "a3b0c7c7-655c-4924-8777-b4feb6e38d86",
   "metadata": {},
   "source": [
    "This means that regardless of where a variable or function is declared in the code, it will be available for use at any point in that scope, even before it has been declared."
   ]
  },
  {
   "cell_type": "code",
   "execution_count": 1,
   "id": "72b3c924-d79b-4103-9f1e-cdc2302fe12c",
   "metadata": {},
   "outputs": [
    {
     "name": "stdout",
     "output_type": "stream",
     "text": [
      "undefined\n"
     ]
    }
   ],
   "source": [
    "console.log(x);\n",
    "var x = 10;"
   ]
  },
  {
   "cell_type": "markdown",
   "id": "733c4f29-ddc2-451e-b829-ee649fb3b752",
   "metadata": {},
   "source": [
    "Logically, it should throw a `ReferenceError`. But thanks to the hoisting behavior, the declaration of `x` is moved to the top of the scope, resulting in `undefined`. *OBS: the declaration is moved, not the value. Therefore, while a variable or function can be used before it is declared, any assignment or initialization will occur in the order it is written in the code*"
   ]
  },
  {
   "cell_type": "markdown",
   "id": "fddc441c-7e4b-4dc4-a895-8b56eaf307fc",
   "metadata": {},
   "source": [
    "Similarly, consider the following code:"
   ]
  },
  {
   "cell_type": "code",
   "execution_count": 2,
   "id": "637d75db-f8c6-4521-a2a9-6b557e5e3985",
   "metadata": {},
   "outputs": [
    {
     "name": "stdout",
     "output_type": "stream",
     "text": [
      "Hello\n"
     ]
    }
   ],
   "source": [
    "foo();\n",
    "\n",
    "function foo() {\n",
    "    console.log('Hello');\n",
    "}"
   ]
  },
  {
   "cell_type": "markdown",
   "id": "0f53ebec-efa8-4d4f-8d6a-ce4f0a4818c7",
   "metadata": {},
   "source": [
    "I've always asked: \"how could a function be called before it is defined?\". By knowing hoisting behavior everything is clear: the declaration of the function is moved to the top of the scope, resulting in \"Hello, world!\" being outputted to the console. "
   ]
  },
  {
   "cell_type": "markdown",
   "id": "95772431-a54f-4498-b153-02c526ba5656",
   "metadata": {},
   "source": [
    "According to MDN:\n",
    "> Hoisting is not a term normatively defined in the ECMAScript specification. The spec does define a group of declarations as `HoistableDeclaration`, but this only includes `function`, `function*`, `async function`, and `async function*` declarations. Hoisting is often considered a feature of `var` declarations as well, although in a different way."
   ]
  },
  {
   "cell_type": "markdown",
   "id": "89bcb70a-42ed-4d15-b349-42c02d1e0ed9",
   "metadata": {},
   "source": [
    "## Why should I get to know this behavior?\n",
    "---"
   ]
  },
  {
   "cell_type": "markdown",
   "id": "4e521ae1-c18f-4263-aa25-211a674bd576",
   "metadata": {},
   "source": [
    "Hoisting can be a powerful tool for organizing code, but it can also lead to unexpected behavior if not used carefully. It is recommended to declare all variables and functions at the top of their respective scopes to avoid confusion and bugs."
   ]
  },
  {
   "cell_type": "markdown",
   "id": "86492e34-68a9-4f00-8f93-83bc441f59aa",
   "metadata": {},
   "source": [
    "# References\n",
    "---"
   ]
  },
  {
   "cell_type": "markdown",
   "id": "251f0aa6-b5eb-4e1d-a664-55d89dc782b2",
   "metadata": {},
   "source": [
    "- https://chat.openai.com/\n",
    "- https://developer.mozilla.org/en-US/docs/Glossary/Hoisting"
   ]
  }
 ],
 "metadata": {
  "kernelspec": {
   "display_name": "JavaScript (Node.js)",
   "language": "javascript",
   "name": "javascript"
  },
  "language_info": {
   "file_extension": ".js",
   "mimetype": "application/javascript",
   "name": "javascript",
   "version": "19.6.0"
  }
 },
 "nbformat": 4,
 "nbformat_minor": 5
}
