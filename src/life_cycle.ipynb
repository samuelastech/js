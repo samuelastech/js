{
 "cells": [
  {
   "cell_type": "markdown",
   "id": "7889ea31-3567-44e7-addf-8d15a5f014be",
   "metadata": {
    "tags": []
   },
   "source": [
    "# Type: Primitive vs. Reference\n",
    "------"
   ]
  },
  {
   "cell_type": "markdown",
   "id": "e45782e8-0e61-482a-9df9-d3a25a6f8630",
   "metadata": {},
   "source": [
    "The data assigned to a JavaScript variable can be of two types, the **primitive** type and the **reference** type."
   ]
  },
  {
   "cell_type": "markdown",
   "id": "2b4c1fcd-de99-413d-9413-0036c4f02db6",
   "metadata": {
    "tags": []
   },
   "source": [
    "## Primitive\n",
    "---"
   ]
  },
  {
   "cell_type": "code",
   "execution_count": 1,
   "id": "8eaae991-7a5c-485b-bf19-97cc5423879a",
   "metadata": {},
   "outputs": [],
   "source": [
    "let counter1 = 0;\n",
    "let counter2 = counter1;"
   ]
  },
  {
   "cell_type": "markdown",
   "id": "5767300a-fdd1-404d-95f4-081da80a6fcb",
   "metadata": {},
   "source": [
    "Two counters. The second one receives the first one. If we increment the value of the second one, what will be the value of the first counter? 1 or 0?"
   ]
  },
  {
   "cell_type": "code",
   "execution_count": 2,
   "id": "f7d7a174-deb1-4b45-9e4f-b98d419c3f36",
   "metadata": {
    "collapsed": true,
    "jupyter": {
     "outputs_hidden": true
    },
    "tags": []
   },
   "outputs": [
    {
     "data": {
      "text/plain": [
       "0"
      ]
     },
     "execution_count": 2,
     "metadata": {},
     "output_type": "execute_result"
    }
   ],
   "source": [
    "counter2++;"
   ]
  },
  {
   "cell_type": "markdown",
   "id": "ecd95848-9902-4464-a76c-6254070ee9be",
   "metadata": {},
   "source": [
    "The first counter:"
   ]
  },
  {
   "cell_type": "code",
   "execution_count": 3,
   "id": "f4045a0e-1d23-4db9-b149-2bc0fb294085",
   "metadata": {},
   "outputs": [
    {
     "data": {
      "text/plain": [
       "0"
      ]
     },
     "execution_count": 3,
     "metadata": {},
     "output_type": "execute_result"
    }
   ],
   "source": [
    "counter1;"
   ]
  },
  {
   "cell_type": "markdown",
   "id": "ed259c58-422d-4bba-9615-4ab50c457cdb",
   "metadata": {},
   "source": [
    "The seconde counter:"
   ]
  },
  {
   "cell_type": "code",
   "execution_count": 4,
   "id": "9c9364ab-0f67-4e58-9cf0-99bfaae6d18f",
   "metadata": {},
   "outputs": [
    {
     "data": {
      "text/plain": [
       "1"
      ]
     },
     "execution_count": 4,
     "metadata": {},
     "output_type": "execute_result"
    }
   ],
   "source": [
    "counter2;"
   ]
  },
  {
   "cell_type": "markdown",
   "id": "b888eff6-3287-4468-8f05-3f8a4de67591",
   "metadata": {},
   "source": [
    "The values are different from each other. So, we have a copy. Primitive types always return their own values."
   ]
  },
  {
   "cell_type": "markdown",
   "id": "4c81113d-68ae-4ef6-9e0a-b3289e9f628a",
   "metadata": {},
   "source": [
    "## Reference\n",
    "---"
   ]
  },
  {
   "cell_type": "markdown",
   "id": "282783bc-155f-45a8-92ab-7951247c0cce",
   "metadata": {},
   "source": [
    "Let's do the same but using objects:"
   ]
  },
  {
   "cell_type": "code",
   "execution_count": 5,
   "id": "f97831f2-d5e4-4065-9d0e-3b61c8a11f09",
   "metadata": {
    "collapsed": true,
    "jupyter": {
     "outputs_hidden": true
    },
    "tags": []
   },
   "outputs": [
    {
     "data": {
      "text/plain": [
       "0"
      ]
     },
     "execution_count": 5,
     "metadata": {},
     "output_type": "execute_result"
    }
   ],
   "source": [
    "const item1 = { counter: 0 };\n",
    "const item2 = item1;\n",
    "item2.counter++;"
   ]
  },
  {
   "cell_type": "code",
   "execution_count": 6,
   "id": "f06a9e60-886e-44f9-973b-eccebb52c2f0",
   "metadata": {},
   "outputs": [
    {
     "data": {
      "text/plain": [
       "1"
      ]
     },
     "execution_count": 6,
     "metadata": {},
     "output_type": "execute_result"
    }
   ],
   "source": [
    "item1.counter;"
   ]
  },
  {
   "cell_type": "code",
   "execution_count": 7,
   "id": "0264f734-55e0-429c-b55b-7ed7fe786d61",
   "metadata": {},
   "outputs": [
    {
     "data": {
      "text/plain": [
       "1"
      ]
     },
     "execution_count": 7,
     "metadata": {},
     "output_type": "execute_result"
    }
   ],
   "source": [
    "item2.counter;"
   ]
  },
  {
   "cell_type": "markdown",
   "id": "8cdc3f41-45d2-4056-8bc7-91b3aadb87d5",
   "metadata": {},
   "source": [
    "Both have the same value 'cause they are pointing to the same memory address."
   ]
  },
  {
   "cell_type": "markdown",
   "id": "ec3905fa-b377-4d1d-b596-5e01dceba206",
   "metadata": {},
   "source": [
    "So, if a object receives another there's no copy, they are different memory addresses pointing out to the same memory space."
   ]
  },
  {
   "cell_type": "markdown",
   "id": "0f2520a4-2e0a-409a-aa46-2e1ef0ab2ad8",
   "metadata": {},
   "source": [
    "There are three reference types in JavaScript:\n",
    "\n",
    "- Objects;\n",
    "- Arrays;\n",
    "- Functions."
   ]
  },
  {
   "cell_type": "code",
   "execution_count": 1,
   "id": "275e2d7f-4899-4d38-a5aa-859882cd82af",
   "metadata": {
    "collapsed": true,
    "jupyter": {
     "outputs_hidden": true
    },
    "tags": []
   },
   "outputs": [
    {
     "data": {
      "text/plain": [
       "1"
      ]
     },
     "execution_count": 1,
     "metadata": {},
     "output_type": "execute_result"
    }
   ],
   "source": [
    "const array1 = [1, 2, 3, 4];\n",
    "const array2 = array1;\n",
    "array2.shift();"
   ]
  },
  {
   "cell_type": "code",
   "execution_count": 2,
   "id": "c89f8a38-55f1-48d5-b2f1-4d2b7eebd11c",
   "metadata": {},
   "outputs": [
    {
     "data": {
      "text/plain": [
       "[ 2, 3, 4 ]"
      ]
     },
     "execution_count": 2,
     "metadata": {},
     "output_type": "execute_result"
    }
   ],
   "source": [
    "array1"
   ]
  },
  {
   "cell_type": "code",
   "execution_count": 3,
   "id": "67dff14a-7694-4338-bbd6-920b682da975",
   "metadata": {},
   "outputs": [
    {
     "data": {
      "text/plain": [
       "[ 2, 3, 4 ]"
      ]
     },
     "execution_count": 3,
     "metadata": {},
     "output_type": "execute_result"
    }
   ],
   "source": [
    "array2"
   ]
  },
  {
   "cell_type": "markdown",
   "id": "9eab6f9a-8f12-46c6-887e-0ca894c8e94f",
   "metadata": {},
   "source": [
    "# Type Coercion\n",
    "---"
   ]
  },
  {
   "cell_type": "markdown",
   "id": "7e930cf5-9603-41f6-b60b-ef1b32df7ec2",
   "metadata": {},
   "source": [
    "Type Coercion refers to the process of automatic or implicit conversion of values from one data type to another."
   ]
  },
  {
   "cell_type": "markdown",
   "id": "96d1b078-ee01-4b6b-9efd-4bf202cc24cf",
   "metadata": {},
   "source": [
    "The constructors of a data type can be used to convert any value to that datatype: `Number()`, `String()`, `Boolean()`."
   ]
  },
  {
   "cell_type": "markdown",
   "id": "2c3ffe8e-63c9-486c-b19b-e63e36fbea0c",
   "metadata": {
    "tags": []
   },
   "source": [
    "## Non-String to String\n",
    "---"
   ]
  },
  {
   "cell_type": "markdown",
   "id": "0ff5f317-6658-42a0-8b8e-6db630346d87",
   "metadata": {},
   "source": [
    "A non-string, when added to a string, will be converted to a string **implicitly**."
   ]
  },
  {
   "cell_type": "code",
   "execution_count": 2,
   "id": "688e9c2d-52b5-4643-837e-4ffa0cc21884",
   "metadata": {},
   "outputs": [
    {
     "name": "stdout",
     "output_type": "stream",
     "text": [
      "Neymar10\n"
     ]
    }
   ],
   "source": [
    "const name = \"Neymar\";\n",
    "const number = 10;\n",
    "console.log(name + number);"
   ]
  },
  {
   "cell_type": "markdown",
   "id": "77bf7b97-156a-4804-9456-3c8322bbaa99",
   "metadata": {},
   "source": [
    "The `number` was implicitly converted to a string. JavaScript does not give an error. Other examples:"
   ]
  },
  {
   "cell_type": "code",
   "execution_count": 1,
   "id": "019476c1-ddfa-4720-b666-a81f047f755c",
   "metadata": {},
   "outputs": [],
   "source": [
    "const x = 10 + '20';\n",
    "const y = '15' + 20;"
   ]
  },
  {
   "cell_type": "code",
   "execution_count": 3,
   "id": "53a38a57-d0c7-488d-98b7-95adafe61b63",
   "metadata": {},
   "outputs": [
    {
     "data": {
      "text/plain": [
       "'1020'"
      ]
     },
     "execution_count": 3,
     "metadata": {},
     "output_type": "execute_result"
    }
   ],
   "source": [
    "x;"
   ]
  },
  {
   "cell_type": "code",
   "execution_count": 5,
   "id": "2c91adca-eb69-455e-ac88-32f92efac82f",
   "metadata": {},
   "outputs": [
    {
     "data": {
      "text/plain": [
       "'1520'"
      ]
     },
     "execution_count": 5,
     "metadata": {},
     "output_type": "execute_result"
    }
   ],
   "source": [
    "y;"
   ]
  },
  {
   "cell_type": "code",
   "execution_count": 6,
   "id": "d54b395e-054b-45c9-a4c7-2e616b8077be",
   "metadata": {},
   "outputs": [],
   "source": [
    "const z = true + '50';"
   ]
  },
  {
   "cell_type": "code",
   "execution_count": 7,
   "id": "571d780b-7c9e-4290-9a45-ae6a95c92d4b",
   "metadata": {},
   "outputs": [
    {
     "data": {
      "text/plain": [
       "'true50'"
      ]
     },
     "execution_count": 7,
     "metadata": {},
     "output_type": "execute_result"
    }
   ],
   "source": [
    "z;"
   ]
  },
  {
   "cell_type": "markdown",
   "id": "f351eca0-d9f4-41f2-9d2c-a746720dbec8",
   "metadata": {},
   "source": [
    "So, again: non-string becomes a string."
   ]
  },
  {
   "cell_type": "markdown",
   "id": "67f78d32-a66e-4eb6-b688-c4a6ff9fdb6e",
   "metadata": {},
   "source": [
    "## Non-Number to Number\n",
    "---"
   ]
  },
  {
   "cell_type": "markdown",
   "id": "6f9a7dcb-0eea-42ed-a0f0-c82d3be6db1e",
   "metadata": {},
   "source": [
    "When an operation like subtraction (-), multiplication (*), division (/) or modulus (%) is performed, all the values that are not number are converted into the number data type, as these operations can be performed between numbers only."
   ]
  },
  {
   "cell_type": "code",
   "execution_count": 11,
   "id": "64ea38c2-0dee-4255-be21-bc1bcdb5ac4e",
   "metadata": {},
   "outputs": [
    {
     "name": "stdout",
     "output_type": "stream",
     "text": [
      "5\n",
      "50\n",
      "2\n",
      "0\n"
     ]
    }
   ],
   "source": [
    "const a = 10 - '5';\n",
    "const b = 10 * '5';\n",
    "const c = 10 / '5';\n",
    "const d = 10 % '5';\n",
    "\n",
    "console.log(a);\n",
    "console.log(b);\n",
    "console.log(c);\n",
    "console.log(d);"
   ]
  },
  {
   "cell_type": "markdown",
   "id": "e6b7e5df-9f35-4828-9626-aa90bfc5f823",
   "metadata": {},
   "source": [
    "The string '5' is converted to number 5 in all cases implicitly."
   ]
  },
  {
   "cell_type": "markdown",
   "id": "18f34d6e-43c4-430f-88dd-244c19db41e8",
   "metadata": {},
   "source": [
    "## Boolean to Number\n",
    "---"
   ]
  },
  {
   "cell_type": "markdown",
   "id": "79c2c6fb-1e19-409b-ac8c-fa812a8be139",
   "metadata": {},
   "source": [
    "When a Boolean is added to a Number, the Boolean value is converted to a number."
   ]
  },
  {
   "cell_type": "markdown",
   "id": "fa1dd723-1519-4ca2-bd6a-b86a6f03ed5e",
   "metadata": {},
   "source": [
    "We have 0 for ‘false’ or 1 for ‘true’."
   ]
  },
  {
   "cell_type": "code",
   "execution_count": 1,
   "id": "b2cc1f3c-f21b-4bc1-b001-e83fc686e400",
   "metadata": {},
   "outputs": [
    {
     "name": "stdout",
     "output_type": "stream",
     "text": [
      "2\n",
      "1\n"
     ]
    }
   ],
   "source": [
    "const positive = true + 1; // 1 + 1 = 2\n",
    "const negative = false + 1; // 0 + 1 = 1\n",
    "\n",
    "console.log(positive);\n",
    "console.log(negative);"
   ]
  },
  {
   "cell_type": "markdown",
   "id": "488980ef-508a-4291-a3aa-eef49163d56e",
   "metadata": {},
   "source": [
    "## Equality Operator\n",
    "---"
   ]
  },
  {
   "cell_type": "markdown",
   "id": "6ca9b62b-5b27-4c8d-b218-986a63967b8f",
   "metadata": {},
   "source": [
    "The equality operator (==) can be used to compare values irrespective of their type."
   ]
  },
  {
   "cell_type": "markdown",
   "id": "417c60c1-0ad0-41e2-8585-3fd3f6c3a0d6",
   "metadata": {},
   "source": [
    "It will coerce a non-number to a number."
   ]
  },
  {
   "cell_type": "code",
   "execution_count": 2,
   "id": "d03fc87f-7b7c-4b9b-a867-ff6963a16e1f",
   "metadata": {},
   "outputs": [
    {
     "name": "stdout",
     "output_type": "stream",
     "text": [
      "true\n",
      "true\n",
      "false\n"
     ]
    }
   ],
   "source": [
    "const case1 = (10 == '10'); // String '10' is coerced to a number\n",
    "const case2 = (true == 1); // 'true' is coerced to one\n",
    "const case3 = (true == 'true'); // Boolean 'true' is coerced to one. String 'true' is coerced to NaN\n",
    "\n",
    "console.log(case1);\n",
    "console.log(case2);\n",
    "console.log(case3);"
   ]
  },
  {
   "cell_type": "markdown",
   "id": "6e44f8a4-7ea7-43ed-bc26-96659a0ad2bc",
   "metadata": {},
   "source": [
    "JavaScript will return 'NaN' (Not a Number) when it tries to convert a random String into a number."
   ]
  },
  {
   "cell_type": "markdown",
   "id": "6b94a535-117d-4820-9aad-070bbd16a8db",
   "metadata": {},
   "source": [
    "## Logical Operators\n",
    "---"
   ]
  },
  {
   "cell_type": "markdown",
   "id": "864d8978-1571-44da-9c3b-c9bb27ad8028",
   "metadata": {},
   "source": [
    "There are three kind of operators: <u>arithmetic</u>, <u>relational</u>, and <u>logical</u>."
   ]
  },
  {
   "cell_type": "markdown",
   "id": "cf411855-a8be-45a4-bacb-37093be439ca",
   "metadata": {},
   "source": [
    "In most programming languages, the logical operation returns either true or false. <mark>In Javascript, logical operations return the value of one of the operands used in the operation</mark>."
   ]
  },
  {
   "cell_type": "markdown",
   "id": "5ecf6c56-27b2-45a5-acda-1eda72b1d11b",
   "metadata": {},
   "source": [
    "### Precedence\n",
    "---"
   ]
  },
  {
   "cell_type": "markdown",
   "id": "6f968e6c-0e0e-4f4c-8c8a-ef0d4e9023c1",
   "metadata": {},
   "source": [
    "There are three logical operators:\n",
    "\n",
    "- Not `!`;\n",
    "- And `&&`;\n",
    "- Or `||`.\n",
    "\n",
    "The above operations are listed based on operator precedence. i.e, `!` is higher precedence, `&&` is in the middle, and `||` is lower precedence."
   ]
  },
  {
   "cell_type": "markdown",
   "id": "b39191d8-3339-44c7-9f29-83f53388820f",
   "metadata": {},
   "source": [
    "### And\n",
    "---"
   ]
  },
  {
   "cell_type": "markdown",
   "id": "fc8a0157-0913-42a7-8bef-4fc2ca94e83f",
   "metadata": {},
   "source": [
    "The `&&` operation returns the **first falsy** value or the **last value** if no falsy value is found."
   ]
  },
  {
   "cell_type": "code",
   "execution_count": 3,
   "id": "9ef01e5a-dedb-4903-adce-25bb3aa4f00c",
   "metadata": {},
   "outputs": [
    {
     "name": "stdout",
     "output_type": "stream",
     "text": [
      "2\n"
     ]
    }
   ],
   "source": [
    "const condition1 = 1 && 2; // Returns the last value if no falsy is found\n",
    "console.log(condition1);"
   ]
  },
  {
   "cell_type": "code",
   "execution_count": 4,
   "id": "411a1fb7-b7b5-4531-907d-77e176fe454f",
   "metadata": {},
   "outputs": [
    {
     "name": "stdout",
     "output_type": "stream",
     "text": [
      "0\n"
     ]
    }
   ],
   "source": [
    "const condition2 = 0 && 1; // Returns the first falsy value\n",
    "console.log(condition2);"
   ]
  },
  {
   "cell_type": "markdown",
   "id": "70bb8e99-2108-472b-a4d1-f62477b7cd01",
   "metadata": {},
   "source": [
    "An useful case:"
   ]
  },
  {
   "cell_type": "code",
   "execution_count": 11,
   "id": "606e237a-3cfa-4a06-89af-9627617dd356",
   "metadata": {},
   "outputs": [],
   "source": [
    "function nameToUpper(user) {\n",
    "    return user && user.name && user.name.toUpperCase();\n",
    "}"
   ]
  },
  {
   "cell_type": "code",
   "execution_count": 7,
   "id": "5d6b8d59-e246-4c6f-b918-ac769b0fcbae",
   "metadata": {},
   "outputs": [
    {
     "name": "stdout",
     "output_type": "stream",
     "text": [
      "undefined\n"
     ]
    }
   ],
   "source": [
    "console.log(nameToUpper());"
   ]
  },
  {
   "cell_type": "code",
   "execution_count": 9,
   "id": "bbe6fec2-e1ef-41bd-84c1-3204a9a3890a",
   "metadata": {},
   "outputs": [
    {
     "name": "stdout",
     "output_type": "stream",
     "text": [
      "undefined\n"
     ]
    }
   ],
   "source": [
    "console.log(nameToUpper({ age: 10 }));"
   ]
  },
  {
   "cell_type": "code",
   "execution_count": 12,
   "id": "f3edc809-6b2f-4b15-acc4-df988c0d5074",
   "metadata": {},
   "outputs": [
    {
     "name": "stdout",
     "output_type": "stream",
     "text": [
      "ALANZOKA THE GAMER\n"
     ]
    }
   ],
   "source": [
    "console.log(nameToUpper({ name: 'Alanzoka the gamer' }));"
   ]
  },
  {
   "cell_type": "markdown",
   "id": "7beac590-cd72-4fdc-a984-858803d35988",
   "metadata": {},
   "source": [
    "If we pass no value to the function, so it will return an `undefined`. If we pass an object that hasn't a `name` key it'll return `undefined`. If we pass an object with the `name` key it'll perform the `toUpperCase()` function."
   ]
  },
  {
   "cell_type": "markdown",
   "id": "26164f11-a6cc-49b1-a84f-c531bb2b6c8d",
   "metadata": {},
   "source": [
    "### Or\n",
    "---"
   ]
  },
  {
   "cell_type": "markdown",
   "id": "0c1e33cf-ad04-4449-8d75-ab1e02d2e533",
   "metadata": {},
   "source": [
    "The `||` operation returns the **first truthy** value or the **last value**const condition1 = 1 && 2; // Returns the last value if no falsy is found\n",
    "console.log(condition1); if no truthy value is found."
   ]
  },
  {
   "cell_type": "code",
   "execution_count": 13,
   "id": "fecc77bb-8e9c-415a-8387-1a86d7ac5c11",
   "metadata": {},
   "outputs": [
    {
     "name": "stdout",
     "output_type": "stream",
     "text": [
      "1\n"
     ]
    }
   ],
   "source": [
    "const condition3 = 1 || 2; // Returns the first truthy value\n",
    "console.log(condition3);"
   ]
  },
  {
   "cell_type": "code",
   "execution_count": 16,
   "id": "3f8829c9-aac4-4ad4-92dc-eb34b33d4441",
   "metadata": {},
   "outputs": [
    {
     "name": "stdout",
     "output_type": "stream",
     "text": [
      "undefined\n"
     ]
    }
   ],
   "source": [
    "const condition4 = 0 || null || undefined // Returns the last value if no truthy is found\n",
    "console.log(condition4);"
   ]
  },
  {
   "cell_type": "code",
   "execution_count": 1,
   "id": "d332ba7d-309a-429b-854c-0fd2dd7ad74a",
   "metadata": {},
   "outputs": [
    {
     "name": "stdout",
     "output_type": "stream",
     "text": [
      "5\n"
     ]
    }
   ],
   "source": [
    "const condition5 = 0 || 0 || undefined || 5 || false || 0; // Returns the frist truthy\n",
    "console.log(condition5);"
   ]
  },
  {
   "cell_type": "markdown",
   "id": "27660eeb-762d-4e98-9956-a13a06371b27",
   "metadata": {},
   "source": [
    "An useful case:"
   ]
  },
  {
   "cell_type": "code",
   "execution_count": 2,
   "id": "5843928c-4b49-42c5-b71e-160b677e7d5b",
   "metadata": {},
   "outputs": [],
   "source": [
    "function getName(user) {\n",
    "    return user.name || 'Provide a name, please';\n",
    "}"
   ]
  },
  {
   "cell_type": "code",
   "execution_count": 4,
   "id": "9e1939ac-2563-4bb6-be94-8a9a9d027b97",
   "metadata": {},
   "outputs": [
    {
     "name": "stdout",
     "output_type": "stream",
     "text": [
      "Provide a name, please\n"
     ]
    }
   ],
   "source": [
    "console.log(getName({}));"
   ]
  },
  {
   "cell_type": "markdown",
   "id": "b068decd-bccf-47ec-9107-3c8349938ba6",
   "metadata": {},
   "source": [
    "Instead of explicitly checking the `user.name` we can do that."
   ]
  },
  {
   "cell_type": "markdown",
   "id": "d43d4206-469d-4df4-adb0-9ca0b7e7db08",
   "metadata": {},
   "source": [
    "## Object Coercion: `toString()` and `valueOf()`\n",
    "---"
   ]
  },
  {
   "cell_type": "markdown",
   "id": "0fe0255c-f65a-42d8-9ef5-8d5b9d7e80db",
   "metadata": {},
   "source": [
    "What happens when objects are added `obj1 + obj2`, subtracted `obj1 - obj2` or printed using `alert(obj)`? In Javascript every object has a `valueOf()` and `toString()` method. Both of these methods are used by JavaScript interpreter **when converting objects to primitive types**."
   ]
  },
  {
   "cell_type": "markdown",
   "id": "e09ebbea-52ac-48f4-896a-59fbd814a714",
   "metadata": {},
   "source": [
    "Let's say we have an object."
   ]
  },
  {
   "cell_type": "code",
   "execution_count": 5,
   "id": "88ea49b4-d141-4c0c-8a65-4fcd6ff76783",
   "metadata": {},
   "outputs": [],
   "source": [
    "const point = {\n",
    "    x: 10,\n",
    "    y: 20,\n",
    "};"
   ]
  },
  {
   "cell_type": "markdown",
   "id": "fec9545e-8fc8-49fe-a4d0-6525b4fc6659",
   "metadata": {},
   "source": [
    "### `toString()`\n",
    "---"
   ]
  },
  {
   "cell_type": "markdown",
   "id": "efe70b22-7612-416a-86e7-db1d7ab85adb",
   "metadata": {},
   "source": [
    "When we try to convert it to string, we get:"
   ]
  },
  {
   "cell_type": "code",
   "execution_count": 6,
   "id": "8aed9681-8be4-44eb-84bd-d0fb71fe838d",
   "metadata": {},
   "outputs": [
    {
     "data": {
      "text/plain": [
       "'[object Object]'"
      ]
     },
     "execution_count": 6,
     "metadata": {},
     "output_type": "execute_result"
    }
   ],
   "source": [
    "'' + point;"
   ]
  },
  {
   "cell_type": "markdown",
   "id": "cca33fba-18a8-4800-b200-0672a63cd127",
   "metadata": {},
   "source": [
    "We can change this with support of `toString()` simply augmenting our `point` object."
   ]
  },
  {
   "cell_type": "code",
   "execution_count": 7,
   "id": "36f4c9dd-79ee-4e9a-8ff9-33cbc830522b",
   "metadata": {},
   "outputs": [
    {
     "data": {
      "text/plain": [
       "[Function (anonymous)]"
      ]
     },
     "execution_count": 7,
     "metadata": {},
     "output_type": "execute_result"
    }
   ],
   "source": [
    "point.toString = function () {\n",
    "    return `(${this.x}, ${this.y})`;\n",
    "};"
   ]
  },
  {
   "cell_type": "code",
   "execution_count": 8,
   "id": "85b77daa-78cc-43ce-b747-fba5598ad053",
   "metadata": {},
   "outputs": [
    {
     "data": {
      "text/plain": [
       "'(10, 20)'"
      ]
     },
     "execution_count": 8,
     "metadata": {},
     "output_type": "execute_result"
    }
   ],
   "source": [
    "'' + point;"
   ]
  },
  {
   "cell_type": "markdown",
   "id": "aac12759-7184-47dd-98e5-599c49909070",
   "metadata": {},
   "source": [
    "It will work in any other situation when object is coerced to `String` type."
   ]
  },
  {
   "cell_type": "markdown",
   "id": "62e2014a-dd28-47c0-b47a-4cb1fef1cd90",
   "metadata": {},
   "source": [
    "### `valueOf`\n",
    "---"
   ]
  },
  {
   "cell_type": "markdown",
   "id": "d4ef7236-c978-4529-91b7-2ae688277ddc",
   "metadata": {},
   "source": [
    "It is similar to `toString()` method, only difference is that it is called when object must be converted to `Number`. Let’s see quick example:"
   ]
  },
  {
   "cell_type": "code",
   "execution_count": 9,
   "id": "36cc651c-d736-4bd5-b406-e6b70f3de98d",
   "metadata": {},
   "outputs": [
    {
     "name": "stdout",
     "output_type": "stream",
     "text": [
      "42\n"
     ]
    }
   ],
   "source": [
    "const obj = {\n",
    "    valueOf: function() {\n",
    "        return 42;\n",
    "    }\n",
    "};\n",
    "\n",
    "console.log(Number(obj));"
   ]
  },
  {
   "cell_type": "markdown",
   "id": "33f5922a-d7d4-4f9d-8dde-dfe8eb0d8237",
   "metadata": {},
   "source": [
    "Also, object is converted to number when used with operators like: `+`, `*` and `-`."
   ]
  },
  {
   "cell_type": "markdown",
   "id": "45b2badc-7cbb-4f6c-beaf-c2fa8cf193c4",
   "metadata": {
    "tags": []
   },
   "source": [
    "# References\n",
    "---"
   ]
  },
  {
   "cell_type": "markdown",
   "id": "2b67c98b-e3e6-4a2f-9a73-37b5b6c39878",
   "metadata": {},
   "source": [
    "- https://www.geeksforgeeks.org/what-is-type-coercion-in-javascript/\n",
    "- https://levelup.gitconnected.com/secrets-of-logical-%EF%B8%8F-operator-in-javascript-98efbae5e8aa\n",
    "- https://www.codementor.io/@manik488/mutability-vs-immutability-in-javascript-1g9hwoeddd\n",
    "- http://blog.marcinchwedczuk.pl/augmenting-JavaScript-objects-with-toString-and-valueOf"
   ]
  }
 ],
 "metadata": {
  "kernelspec": {
   "display_name": "JavaScript (Node.js)",
   "language": "javascript",
   "name": "javascript"
  },
  "language_info": {
   "file_extension": ".js",
   "mimetype": "application/javascript",
   "name": "javascript",
   "version": "19.6.0"
  }
 },
 "nbformat": 4,
 "nbformat_minor": 5
}
