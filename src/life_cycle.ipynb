{
 "cells": [
  {
   "cell_type": "markdown",
   "id": "7889ea31-3567-44e7-addf-8d15a5f014be",
   "metadata": {},
   "source": [
    "# Type: Value vs. Reference\n",
    "## Value"
   ]
  },
  {
   "cell_type": "code",
   "execution_count": 1,
   "id": "8eaae991-7a5c-485b-bf19-97cc5423879a",
   "metadata": {},
   "outputs": [],
   "source": [
    "let counter1 = 0;\n",
    "let counter2 = counter1;"
   ]
  },
  {
   "cell_type": "markdown",
   "id": "5767300a-fdd1-404d-95f4-081da80a6fcb",
   "metadata": {},
   "source": [
    "Two counters. The second one receives the first one. If we increment the value of the second one, what will be the value of the first counter? 1 or 0?"
   ]
  },
  {
   "cell_type": "code",
   "execution_count": 2,
   "id": "f7d7a174-deb1-4b45-9e4f-b98d419c3f36",
   "metadata": {},
   "outputs": [
    {
     "data": {
      "text/plain": [
       "0"
      ]
     },
     "execution_count": 2,
     "metadata": {},
     "output_type": "execute_result"
    }
   ],
   "source": [
    "counter2++;"
   ]
  },
  {
   "cell_type": "markdown",
   "id": "ecd95848-9902-4464-a76c-6254070ee9be",
   "metadata": {},
   "source": [
    "The first counter:"
   ]
  },
  {
   "cell_type": "code",
   "execution_count": 3,
   "id": "f4045a0e-1d23-4db9-b149-2bc0fb294085",
   "metadata": {},
   "outputs": [
    {
     "data": {
      "text/plain": [
       "0"
      ]
     },
     "execution_count": 3,
     "metadata": {},
     "output_type": "execute_result"
    }
   ],
   "source": [
    "counter1;"
   ]
  },
  {
   "cell_type": "markdown",
   "id": "ed259c58-422d-4bba-9615-4ab50c457cdb",
   "metadata": {},
   "source": [
    "The seconde counter:"
   ]
  },
  {
   "cell_type": "code",
   "execution_count": 4,
   "id": "9c9364ab-0f67-4e58-9cf0-99bfaae6d18f",
   "metadata": {},
   "outputs": [
    {
     "data": {
      "text/plain": [
       "1"
      ]
     },
     "execution_count": 4,
     "metadata": {},
     "output_type": "execute_result"
    }
   ],
   "source": [
    "counter2;"
   ]
  },
  {
   "cell_type": "markdown",
   "id": "b888eff6-3287-4468-8f05-3f8a4de67591",
   "metadata": {},
   "source": [
    "The valuer are different from each other. So, we have a copy."
   ]
  }
 ],
 "metadata": {
  "kernelspec": {
   "display_name": "JavaScript (Node.js)",
   "language": "javascript",
   "name": "javascript"
  },
  "language_info": {
   "file_extension": ".js",
   "mimetype": "application/javascript",
   "name": "javascript",
   "version": "19.4.0"
  }
 },
 "nbformat": 4,
 "nbformat_minor": 5
}
