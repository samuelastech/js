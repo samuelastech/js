{
 "cells": [
  {
   "cell_type": "markdown",
   "id": "7889ea31-3567-44e7-addf-8d15a5f014be",
   "metadata": {
    "tags": []
   },
   "source": [
    "# Type: Value vs. Reference\n",
    "------"
   ]
  },
  {
   "cell_type": "markdown",
   "id": "2b4c1fcd-de99-413d-9413-0036c4f02db6",
   "metadata": {
    "jp-MarkdownHeadingCollapsed": true,
    "tags": []
   },
   "source": [
    "## Value\n",
    "---"
   ]
  },
  {
   "cell_type": "code",
   "execution_count": 1,
   "id": "8eaae991-7a5c-485b-bf19-97cc5423879a",
   "metadata": {},
   "outputs": [],
   "source": [
    "let counter1 = 0;\n",
    "let counter2 = counter1;"
   ]
  },
  {
   "cell_type": "markdown",
   "id": "5767300a-fdd1-404d-95f4-081da80a6fcb",
   "metadata": {},
   "source": [
    "Two counters. The second one receives the first one. If we increment the value of the second one, what will be the value of the first counter? 1 or 0?"
   ]
  },
  {
   "cell_type": "code",
   "execution_count": 2,
   "id": "f7d7a174-deb1-4b45-9e4f-b98d419c3f36",
   "metadata": {
    "collapsed": true,
    "jupyter": {
     "outputs_hidden": true
    },
    "tags": []
   },
   "outputs": [
    {
     "data": {
      "text/plain": [
       "0"
      ]
     },
     "execution_count": 2,
     "metadata": {},
     "output_type": "execute_result"
    }
   ],
   "source": [
    "counter2++;"
   ]
  },
  {
   "cell_type": "markdown",
   "id": "ecd95848-9902-4464-a76c-6254070ee9be",
   "metadata": {},
   "source": [
    "The first counter:"
   ]
  },
  {
   "cell_type": "code",
   "execution_count": 3,
   "id": "f4045a0e-1d23-4db9-b149-2bc0fb294085",
   "metadata": {},
   "outputs": [
    {
     "data": {
      "text/plain": [
       "0"
      ]
     },
     "execution_count": 3,
     "metadata": {},
     "output_type": "execute_result"
    }
   ],
   "source": [
    "counter1;"
   ]
  },
  {
   "cell_type": "markdown",
   "id": "ed259c58-422d-4bba-9615-4ab50c457cdb",
   "metadata": {},
   "source": [
    "The seconde counter:"
   ]
  },
  {
   "cell_type": "code",
   "execution_count": 4,
   "id": "9c9364ab-0f67-4e58-9cf0-99bfaae6d18f",
   "metadata": {},
   "outputs": [
    {
     "data": {
      "text/plain": [
       "1"
      ]
     },
     "execution_count": 4,
     "metadata": {},
     "output_type": "execute_result"
    }
   ],
   "source": [
    "counter2;"
   ]
  },
  {
   "cell_type": "markdown",
   "id": "b888eff6-3287-4468-8f05-3f8a4de67591",
   "metadata": {},
   "source": [
    "The values are different from each other. So, we have a copy."
   ]
  },
  {
   "cell_type": "markdown",
   "id": "4c81113d-68ae-4ef6-9e0a-b3289e9f628a",
   "metadata": {},
   "source": [
    "## Reference\n",
    "---"
   ]
  },
  {
   "cell_type": "markdown",
   "id": "282783bc-155f-45a8-92ab-7951247c0cce",
   "metadata": {},
   "source": [
    "Let's do the same but using objects:"
   ]
  },
  {
   "cell_type": "code",
   "execution_count": 5,
   "id": "f97831f2-d5e4-4065-9d0e-3b61c8a11f09",
   "metadata": {
    "collapsed": true,
    "jupyter": {
     "outputs_hidden": true
    },
    "tags": []
   },
   "outputs": [
    {
     "data": {
      "text/plain": [
       "0"
      ]
     },
     "execution_count": 5,
     "metadata": {},
     "output_type": "execute_result"
    }
   ],
   "source": [
    "const item1 = { counter: 0 };\n",
    "const item2 = item1;\n",
    "item2.counter++;"
   ]
  },
  {
   "cell_type": "code",
   "execution_count": 6,
   "id": "f06a9e60-886e-44f9-973b-eccebb52c2f0",
   "metadata": {},
   "outputs": [
    {
     "data": {
      "text/plain": [
       "1"
      ]
     },
     "execution_count": 6,
     "metadata": {},
     "output_type": "execute_result"
    }
   ],
   "source": [
    "item1.counter;"
   ]
  },
  {
   "cell_type": "code",
   "execution_count": 7,
   "id": "0264f734-55e0-429c-b55b-7ed7fe786d61",
   "metadata": {},
   "outputs": [
    {
     "data": {
      "text/plain": [
       "1"
      ]
     },
     "execution_count": 7,
     "metadata": {},
     "output_type": "execute_result"
    }
   ],
   "source": [
    "item2.counter;"
   ]
  },
  {
   "cell_type": "markdown",
   "id": "8cdc3f41-45d2-4056-8bc7-91b3aadb87d5",
   "metadata": {},
   "source": [
    "Both have the same value 'cause they are pointing to the same memory address."
   ]
  },
  {
   "cell_type": "markdown",
   "id": "ec3905fa-b377-4d1d-b596-5e01dceba206",
   "metadata": {},
   "source": [
    "So, if a object receives another there's no copy, they are different memory addresses pointing out to the same memory space."
   ]
  },
  {
   "cell_type": "markdown",
   "id": "a3864ef3-1f97-43c3-b692-da8b26cdc5f6",
   "metadata": {},
   "source": []
  }
 ],
 "metadata": {
  "kernelspec": {
   "display_name": "JavaScript (Node.js)",
   "language": "javascript",
   "name": "javascript"
  },
  "language_info": {
   "file_extension": ".js",
   "mimetype": "application/javascript",
   "name": "javascript",
   "version": "19.4.0"
  }
 },
 "nbformat": 4,
 "nbformat_minor": 5
}
