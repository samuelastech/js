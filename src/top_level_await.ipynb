{
 "cells": [
  {
   "cell_type": "markdown",
   "id": "14fc9179-eb18-4af9-9aa4-abf9bdb5d175",
   "metadata": {},
   "source": [
    "# Top-level await\n",
    "---"
   ]
  },
  {
   "cell_type": "markdown",
   "id": "dcd2428c-8e64-4e15-992c-7c54ffa67f78",
   "metadata": {},
   "source": [
    "Top-level await came up with *ECMAScript Modules (ESM)*, which runs asynchronously so that we can use the `await` keyword outside of async functions."
   ]
  },
  {
   "cell_type": "markdown",
   "id": "45ea772a-ad1d-4ff1-84d2-cabbb93f62d7",
   "metadata": {},
   "source": [
    "ESM acts like a big async function causing other modules who import them to wait before they start evaluating their body."
   ]
  },
  {
   "cell_type": "markdown",
   "id": "2db8ed20-bd95-4656-8088-8afc6d2e93d3",
   "metadata": {},
   "source": [
    "## CommonJS behavior\n",
    "---"
   ]
  },
  {
   "cell_type": "markdown",
   "id": "241419e7-e12d-49c4-bfa8-9ef774083c12",
   "metadata": {},
   "source": [
    "When `async/await` was first introduced, attempting to use an `await` outside of an `async` function resulted in a `SyntaxError`. Many developers utilized Immediately Invoked Function Expression (IIFE) with `async` as a way to get access to the feature."
   ]
  },
  {
   "cell_type": "code",
   "execution_count": 1,
   "id": "6edd0041-f142-4f85-9701-97de496bc6b0",
   "metadata": {},
   "outputs": [
    {
     "ename": "SyntaxError",
     "evalue": "await is only valid in async functions and the top level bodies of modules",
     "execution_count": 1,
     "output_type": "error",
     "traceback": [
      "evalmachine.<anonymous>:1",
      "await Promise.resolve(console.log('🎉'));",
      "^^^^^",
      "",
      "SyntaxError: await is only valid in async functions and the top level bodies of modules",
      "    at new Script (node:vm:100:7)",
      "    at createScript (node:vm:258:10)",
      "    at Object.runInThisContext (node:vm:306:10)",
      "    at run ([eval]:1020:15)",
      "    at onRunRequest ([eval]:864:18)",
      "    at onMessage ([eval]:828:13)",
      "    at process.emit (node:events:512:28)",
      "    at emit (node:internal/child_process:944:14)",
      "    at process.processTicksAndRejections (node:internal/process/task_queues:83:21)"
     ]
    }
   ],
   "source": [
    "await Promise.resolve(console.log('🎉'));\n",
    "// → SyntaxError: await is only valid in async function"
   ]
  },
  {
   "cell_type": "code",
   "execution_count": 2,
   "id": "3b2ea176-1316-4c56-9d03-5ccd500902b9",
   "metadata": {},
   "outputs": [
    {
     "data": {
      "text/plain": [
       "Promise { <pending> }"
      ]
     },
     "execution_count": 2,
     "metadata": {},
     "output_type": "execute_result"
    }
   ],
   "source": [
    "const result = [];\n",
    "\n",
    "(async function() {\n",
    "  await Promise.resolve(result.push('🎉'));\n",
    "}());"
   ]
  },
  {
   "cell_type": "code",
   "execution_count": 3,
   "id": "1513c8ec-47e7-4c34-9915-ceae0a1972ea",
   "metadata": {},
   "outputs": [
    {
     "data": {
      "text/plain": [
       "'🎉'"
      ]
     },
     "execution_count": 3,
     "metadata": {},
     "output_type": "execute_result"
    }
   ],
   "source": [
    "result[0];"
   ]
  },
  {
   "cell_type": "markdown",
   "id": "f7fbfd3e-caeb-443e-a81c-51920da9129a",
   "metadata": {},
   "source": [
    "## ECMAScript Modules behavior\n",
    "---"
   ]
  },
  {
   "cell_type": "markdown",
   "id": "d98def48-46eb-4e58-b572-a971534dc391",
   "metadata": {},
   "source": [
    "Again, ESM runs asynchronously, just like if it already implemented IIEF. So, we can use `await` outside an `async` function at the top-level of a module."
   ]
  },
  {
   "cell_type": "markdown",
   "id": "6d0ec1b5-eb54-45f0-b24b-ad2d7aa09aac",
   "metadata": {},
   "source": [
    "```js\n",
    "await Promise.resolve(console.log('🎉'));\n",
    "```"
   ]
  },
  {
   "cell_type": "markdown",
   "id": "5cbfd580-858a-4aba-a63e-9124fdae3040",
   "metadata": {},
   "source": [
    "# References \n",
    "---"
   ]
  },
  {
   "cell_type": "markdown",
   "id": "c865504f-2650-45b8-a134-f7f5dc11b987",
   "metadata": {},
   "source": [
    "- https://v8.dev/features/top-level-await"
   ]
  }
 ],
 "metadata": {
  "kernelspec": {
   "display_name": "JavaScript (Node.js)",
   "language": "javascript",
   "name": "javascript"
  },
  "language_info": {
   "file_extension": ".js",
   "mimetype": "application/javascript",
   "name": "javascript",
   "version": "19.6.0"
  }
 },
 "nbformat": 4,
 "nbformat_minor": 5
}
