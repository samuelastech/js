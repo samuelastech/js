{
 "cells": [
  {
   "cell_type": "markdown",
   "id": "182bbcb1-51ce-4cdd-897b-2acc5aa420ed",
   "metadata": {},
   "source": [
    "# Dates\n",
    "---"
   ]
  },
  {
   "cell_type": "markdown",
   "id": "b0ef66ac-50de-434c-b937-ea7a7a90f2b9",
   "metadata": {},
   "source": [
    "Working with dates is hard in programming. Here is a place to clarify some concepts and practice around them."
   ]
  },
  {
   "cell_type": "markdown",
   "id": "1e0b5422-9106-45a8-9987-9620303f9b5c",
   "metadata": {},
   "source": [
    "## What is UTC?\n",
    "---"
   ]
  },
  {
   "cell_type": "markdown",
   "id": "3a56878b-06c4-4dd3-ba9a-661fbe6c43f8",
   "metadata": {},
   "source": [
    "UTC stands for **Coordinated Universal Time** (and, oddly, not Universal Time Coordinated). UTC <u>is not</u> itself a timezone. Rather, it is a global standard, used to coordinate times around the world. It is effectively “ground zero” for global timekeeping."
   ]
  },
  {
   "cell_type": "markdown",
   "id": "1a15a46b-f21a-485b-ae9f-9a7857c7f83b",
   "metadata": {},
   "source": [
    "Times in different parts of the world are described as UTC plus or minus a certain offset. California is seven hours behind UTC, and so has an offset of -7 hours. This offset is often written as UTC-7:00. By contrast, Athens is 3 hours ahead of UTC, and so has an offset of UTC+3:00. Here it goes a list of some countries and their UTC:"
   ]
  },
  {
   "cell_type": "code",
   "execution_count": null,
   "id": "6331a603-70c9-4672-b5a2-8a9706d31411",
   "metadata": {},
   "outputs": [],
   "source": []
  },
  {
   "cell_type": "markdown",
   "id": "f421704c-5bd6-46dd-b7b4-68c2022a71f4",
   "metadata": {},
   "source": [
    "# References\n",
    "---"
   ]
  },
  {
   "cell_type": "markdown",
   "id": "09b9198a-d4dd-43a1-b8f0-b0ec27ab1a33",
   "metadata": {},
   "source": [
    "- https://levelup.gitconnected.com/why-is-programming-with-dates-so-hard-7477b4aeff4c\n",
    "- https://jp.cybozu.help/general/en/admin/list_systemadmin/list_localization/timezone.html"
   ]
  }
 ],
 "metadata": {
  "kernelspec": {
   "display_name": "JavaScript (Node.js)",
   "language": "javascript",
   "name": "javascript"
  },
  "language_info": {
   "file_extension": ".js",
   "mimetype": "application/javascript",
   "name": "javascript",
   "version": "19.6.0"
  }
 },
 "nbformat": 4,
 "nbformat_minor": 5
}
