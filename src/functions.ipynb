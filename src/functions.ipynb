{
 "cells": [
  {
   "cell_type": "markdown",
   "id": "52ebfbc4-cf99-4e2c-a58a-80e108ad741e",
   "metadata": {},
   "source": [
    "# Functions"
   ]
  },
  {
   "cell_type": "markdown",
   "id": "92723569-dab9-492f-b592-0067d5f441bf",
   "metadata": {},
   "source": [
    "## Function vs. Arrow Function\n",
    "---"
   ]
  },
  {
   "cell_type": "markdown",
   "id": "158be902-54c2-4e04-9d95-a4a6ba765791",
   "metadata": {},
   "source": [
    "In JavaScript, there are two main ways to create functions: using the `function` keyword and using an arrow function."
   ]
  },
  {
   "cell_type": "code",
   "execution_count": 1,
   "id": "19833f5e-dd38-4b4c-a389-5fb2ac305b0b",
   "metadata": {},
   "outputs": [],
   "source": [
    "// Function\n",
    "function sumFunc(a, b){\n",
    "    return a + b;\n",
    "}\n",
    "\n",
    "// Arrow function\n",
    "const sumArrowFunc = (a, b) => {\n",
    "    return a + b;\n",
    "};\n",
    "\n",
    "const concisedArrowFunc = (a, b) => a + b;"
   ]
  },
  {
   "cell_type": "markdown",
   "id": "e663ae85-4348-4c8c-98b7-711faea95780",
   "metadata": {},
   "source": [
    "What's the difference between using one or the other?"
   ]
  },
  {
   "cell_type": "markdown",
   "id": "abb4d4a0-43b3-4a64-9de2-e3fc03fc982c",
   "metadata": {},
   "source": [
    "- The syntax: arrow functions could be more concise and easier to read for simple functions;\n",
    "- The `this` keyword works differently in each one;\n",
    "- Arrow functions cannot be used as constructors, meaning they cannot be used with the new keyword to create an object;"
   ]
  },
  {
   "cell_type": "markdown",
   "id": "00362192-a285-439e-889d-4d510f72bd2f",
   "metadata": {
    "jp-MarkdownHeadingCollapsed": true,
    "tags": []
   },
   "source": [
    "### How `this` works?\n",
    "---"
   ]
  },
  {
   "cell_type": "markdown",
   "id": "9877e8d5-120c-4c80-893b-1a57eaf12540",
   "metadata": {},
   "source": [
    "According to *FreeCodeCamp*:\n",
    "\n",
    "> JavaScript's this keyword is one of the hardest aspects of the language to grasp. But it is critically important for writing more advanced JavaScript code."
   ]
  },
  {
   "cell_type": "markdown",
   "id": "b38dd4e0-b4cf-4c91-be61-15ac13d15b2c",
   "metadata": {},
   "source": [
    "In JavaScript, the `this` keyword refers to an object. Depending on where it's called, different objects will appear."
   ]
  },
  {
   "cell_type": "markdown",
   "id": "936d9c7e-359f-4289-acf4-36868b089235",
   "metadata": {},
   "source": [
    "In an **object method**, `this` refers to the object."
   ]
  },
  {
   "cell_type": "code",
   "execution_count": 1,
   "id": "9c42ff6c-faa9-4e0b-92d4-755a480bf270",
   "metadata": {},
   "outputs": [
    {
     "name": "stdout",
     "output_type": "stream",
     "text": [
      "Hello, my name is Alice.\n"
     ]
    }
   ],
   "source": [
    "const person = {\n",
    "    name: 'Alice',\n",
    "    sayHello() {\n",
    "        console.log(`Hello, my name is ${this.name}.`);\n",
    "    }\n",
    "};\n",
    "\n",
    "person.sayHello();"
   ]
  },
  {
   "cell_type": "markdown",
   "id": "fbc8f54d-c555-42eb-b116-ebecedc8828d",
   "metadata": {},
   "source": [
    "---"
   ]
  },
  {
   "cell_type": "markdown",
   "id": "6a48e957-abec-4c91-88be-95f05511aab9",
   "metadata": {},
   "source": [
    "In an **object method using arrow function**, `this` refers to the *global object*."
   ]
  },
  {
   "cell_type": "code",
   "execution_count": 2,
   "id": "fe1c1859-9ed4-4be4-af2e-5a9ca6af83fb",
   "metadata": {},
   "outputs": [
    {
     "name": "stdout",
     "output_type": "stream",
     "text": [
      "undefined is barking\n"
     ]
    }
   ],
   "source": [
    "const animal = {\n",
    "    name: 'Dog',\n",
    "    bark: () => {\n",
    "        console.log(`${this.name} is barking`);\n",
    "    }\n",
    "}\n",
    "\n",
    "animal.bark();"
   ]
  },
  {
   "cell_type": "markdown",
   "id": "6122a257-4bd7-44dd-8996-ca0297ed4e84",
   "metadata": {},
   "source": [
    "Different from regular functions, arrow functions don't have their own `this` keyword, so the value of `this` become, most of the time, the global object."
   ]
  },
  {
   "cell_type": "markdown",
   "id": "9827a739-2d4c-4371-91ba-510e6f8767b7",
   "metadata": {},
   "source": [
    "In this case, the global object does not have a `name` property, so `this.name` inside `bark` returns `undefined`."
   ]
  },
  {
   "cell_type": "markdown",
   "id": "899a44a5-b35e-4304-897d-3277b14a1940",
   "metadata": {},
   "source": [
    "To further illustrate this point, let's modify the object slightly:"
   ]
  },
  {
   "cell_type": "code",
   "execution_count": 4,
   "id": "95034852-30c6-4bda-ad06-344cc8062c3c",
   "metadata": {},
   "outputs": [
    {
     "name": "stdout",
     "output_type": "stream",
     "text": [
      "Dog is barking louder\n"
     ]
    }
   ],
   "source": [
    "animal.barkLouder = () => console.log(`${animal.name} is barking louder`);\n",
    "animal.barkLouder();"
   ]
  },
  {
   "cell_type": "markdown",
   "id": "10e195cf-5f32-4761-b5c8-7933bf24bbd6",
   "metadata": {},
   "source": [
    "---"
   ]
  },
  {
   "cell_type": "markdown",
   "id": "13066934-dc7d-4399-b9ac-b05fa9376bbd",
   "metadata": {},
   "source": [
    "**Alone**, `this` referes to the *global object*."
   ]
  },
  {
   "cell_type": "code",
   "execution_count": 2,
   "id": "34f295cd-a068-4b6f-84c3-20136722183b",
   "metadata": {
    "collapsed": true,
    "jupyter": {
     "outputs_hidden": true
    },
    "tags": []
   },
   "outputs": [
    {
     "data": {
      "text/plain": [
       "<ref *1> Object [global] {\n",
       "  global: [Circular *1],\n",
       "  queueMicrotask: [Function: queueMicrotask],\n",
       "  clearImmediate: [Function: clearImmediate],\n",
       "  setImmediate: [Function: setImmediate] {\n",
       "    [Symbol(nodejs.util.promisify.custom)]: [Getter]\n",
       "  },\n",
       "  structuredClone: [Getter/Setter],\n",
       "  clearInterval: [Function: clearInterval],\n",
       "  clearTimeout: [Function: clearTimeout],\n",
       "  setInterval: [Function: setInterval],\n",
       "  setTimeout: [Function: setTimeout] {\n",
       "    [Symbol(nodejs.util.promisify.custom)]: [Getter]\n",
       "  },\n",
       "  atob: [Getter/Setter],\n",
       "  btoa: [Getter/Setter],\n",
       "  performance: [Getter/Setter],\n",
       "  fetch: [AsyncFunction: fetch],\n",
       "  crypto: [Getter],\n",
       "  __filename: '[eval]',\n",
       "  module: <ref *2> [Function: Module] {\n",
       "    _cache: [Object: null prototype] {},\n",
       "    _pathCache: [Object: null prototype] {},\n",
       "    _extensions: [Object: null prototype] {\n",
       "      '.js': [Function (anonymous)],\n",
       "      '.json': [Function (anonymous)],\n",
       "      '.node': [Function (anonymous)]\n",
       "    },\n",
       "    globalPaths: [\n",
       "      '/home/samuel/.node_modules',\n",
       "      '/home/samuel/.node_libraries',\n",
       "      '/home/samuel/.nvm/versions/node/v19.6.0/lib/node'\n",
       "    ],\n",
       "    _findPath: [Function (anonymous)],\n",
       "    _nodeModulePaths: [Function (anonymous)],\n",
       "    _resolveLookupPaths: [Function (anonymous)],\n",
       "    _load: [Function (anonymous)],\n",
       "    _resolveFilename: [Function (anonymous)],\n",
       "    createRequire: [Function: createRequire],\n",
       "    _initPaths: [Function (anonymous)],\n",
       "    _preloadModules: [Function (anonymous)],\n",
       "    syncBuiltinESMExports: [Function: syncBuiltinESMExports],\n",
       "    Module: [Circular *2],\n",
       "    _debug: [Function: deprecated],\n",
       "    builtinModules: [\n",
       "      '_http_agent',         '_http_client',        '_http_common',\n",
       "      '_http_incoming',      '_http_outgoing',      '_http_server',\n",
       "      '_stream_duplex',      '_stream_passthrough', '_stream_readable',\n",
       "      '_stream_transform',   '_stream_wrap',        '_stream_writable',\n",
       "      '_tls_common',         '_tls_wrap',           'assert',\n",
       "      'assert/strict',       'async_hooks',         'buffer',\n",
       "      'child_process',       'cluster',             'console',\n",
       "      'constants',           'crypto',              'dgram',\n",
       "      'diagnostics_channel', 'dns',                 'dns/promises',\n",
       "      'domain',              'events',              'fs',\n",
       "      'fs/promises',         'http',                'http2',\n",
       "      'https',               'inspector',           'inspector/promises',\n",
       "      'module',              'net',                 'os',\n",
       "      'path',                'path/posix',          'path/win32',\n",
       "      'perf_hooks',          'process',             'punycode',\n",
       "      'querystring',         'readline',            'readline/promises',\n",
       "      'repl',                'stream',              'stream/consumers',\n",
       "      'stream/promises',     'stream/web',          'string_decoder',\n",
       "      'sys',                 'timers',              'timers/promises',\n",
       "      'tls',                 'trace_events',        'tty',\n",
       "      'url',                 'util',                'util/types',\n",
       "      'v8',                  'vm',                  'worker_threads',\n",
       "      'zlib'\n",
       "    ],\n",
       "    isBuiltin: [Function: isBuiltin],\n",
       "    runMain: [Function: executeUserEntryPoint],\n",
       "    findSourceMap: [Function: findSourceMap],\n",
       "    SourceMap: [class SourceMap]\n",
       "  },\n",
       "  exports: {},\n",
       "  __dirname: '.',\n",
       "  require: [Function: require] {\n",
       "    resolve: [Function: resolve] { paths: [Function: paths] },\n",
       "    main: undefined,\n",
       "    extensions: [Object: null prototype] {\n",
       "      '.js': [Function (anonymous)],\n",
       "      '.json': [Function (anonymous)],\n",
       "      '.node': [Function (anonymous)]\n",
       "    },\n",
       "    cache: [Object: null prototype] {}\n",
       "  },\n",
       "  '$$mimer$$': [Function: defaultMimer],\n",
       "  '$$done$$': [Function: bound bound done],\n",
       "  console: Console [console] {\n",
       "    log: [Function: log],\n",
       "    warn: [Function: warn],\n",
       "    dir: [Function: dir],\n",
       "    time: [Function: time],\n",
       "    timeEnd: [Function: timeEnd],\n",
       "    timeLog: [Function: timeLog],\n",
       "    trace: [Function: trace],\n",
       "    assert: [Function: assert],\n",
       "    clear: [Function: clear],\n",
       "    count: [Function: count],\n",
       "    countReset: [Function: countReset],\n",
       "    group: [Function: group],\n",
       "    groupEnd: [Function: groupEnd],\n",
       "    table: [Function: table],\n",
       "    debug: [Function: debug],\n",
       "    info: [Function: info],\n",
       "    dirxml: [Function: dirxml],\n",
       "    error: [Function: error],\n",
       "    groupCollapsed: [Function: groupCollapsed],\n",
       "    Console: [Function: Console]\n",
       "  },\n",
       "  '$$': [Object: null prototype] {\n",
       "    async: [Function: bound async],\n",
       "    done: [Function: bound done],\n",
       "    sendResult: [Function: bound ],\n",
       "    sendError: [Function: bound ],\n",
       "    mime: [Function: bound ],\n",
       "    text: [Function: bound ],\n",
       "    html: [Function: bound ],\n",
       "    svg: [Function: bound ],\n",
       "    png: [Function: bound ],\n",
       "    jpeg: [Function: bound ],\n",
       "    json: [Function: bound ],\n",
       "    input: [Function: bound input],\n",
       "    display: [Function: bound createDisplay],\n",
       "    clear: [Function: bound clear]\n",
       "  }\n",
       "}"
      ]
     },
     "execution_count": 2,
     "metadata": {},
     "output_type": "execute_result"
    }
   ],
   "source": [
    "this"
   ]
  },
  {
   "cell_type": "markdown",
   "id": "acbab493-9675-4a26-980a-26f9f34ce380",
   "metadata": {},
   "source": [
    "---"
   ]
  },
  {
   "cell_type": "markdown",
   "id": "336bf5de-eb28-4d0e-926d-9a3810c1fe20",
   "metadata": {},
   "source": [
    "In a **function without an object context**, `this` is set to the global object (in non-strict mode) or undefined (in strict mode)."
   ]
  },
  {
   "cell_type": "code",
   "execution_count": 3,
   "id": "3472e7ec-2a10-4e82-89c2-2a1ad7e1ce08",
   "metadata": {},
   "outputs": [
    {
     "name": "stdout",
     "output_type": "stream",
     "text": [
      "Hello my name is undefined\n"
     ]
    }
   ],
   "source": [
    "function sayHello() {\n",
    "    console.log(`Hello my name is ${this.name}`);\n",
    "}\n",
    "\n",
    "sayHello();"
   ]
  },
  {
   "cell_type": "markdown",
   "id": "f343b1c9-9017-4dcf-9802-605a385d9c0d",
   "metadata": {},
   "source": [
    "# References\n",
    "---"
   ]
  },
  {
   "cell_type": "markdown",
   "id": "ac45ee36-bbec-4281-b1e7-d318987cd979",
   "metadata": {},
   "source": [
    "- https://chat.openai.com/\n",
    "- https://www.freecodecamp.org/news/javascript-this-keyword-binding-rules/\n",
    "- https://www.w3schools.com/js/js_this.asp"
   ]
  }
 ],
 "metadata": {
  "kernelspec": {
   "display_name": "JavaScript (Node.js)",
   "language": "javascript",
   "name": "javascript"
  },
  "language_info": {
   "file_extension": ".js",
   "mimetype": "application/javascript",
   "name": "javascript",
   "version": "19.6.0"
  }
 },
 "nbformat": 4,
 "nbformat_minor": 5
}
