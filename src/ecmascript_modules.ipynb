{
 "cells": [
  {
   "cell_type": "markdown",
   "id": "7c6b844f-286b-47ad-adc4-6a5cf0a32357",
   "metadata": {},
   "source": [
    "# ECMAScript Modules (ESM)\n",
    "---"
   ]
  },
  {
   "cell_type": "markdown",
   "id": "c9c2856f-fab9-4f0f-9074-fb23fb4953d2",
   "metadata": {},
   "source": [
    "*CommonJS* and *ECMAScript Modules* are a module formatting system. This last one is the most recent feature."
   ]
  },
  {
   "cell_type": "markdown",
   "id": "9813df8d-064c-442a-9a44-56ccd76d5264",
   "metadata": {},
   "source": [
    "Some people say that ECMAScript modules are just the `import` and `export` keywords. But, it isn't just about it, everything has changed. How the browser read the settings of your project; how the things are imported has changed internally; how the things are loaded and parsed."
   ]
  },
  {
   "cell_type": "markdown",
   "id": "1e361328-b8ef-41aa-ab18-d56bdd2076f7",
   "metadata": {},
   "source": [
    "## A line of history\n",
    "---"
   ]
  },
  {
   "cell_type": "markdown",
   "id": "14ba9df4-9bbc-4075-b309-453d5b1938fa",
   "metadata": {},
   "source": [
    "The ESM were released on ES6 in 2015 and they were implemented in all browsers only in 2018. In 2020, the ESM leave the experimental mode of Node.js."
   ]
  },
  {
   "cell_type": "markdown",
   "id": "e3ea68f5-8172-4ca3-89e0-09a9a1019a84",
   "metadata": {},
   "source": [
    "## Main changes in ESM\n",
    "---"
   ]
  },
  {
   "cell_type": "markdown",
   "id": "161d13f1-cb92-401c-aa13-bd0bf47da58c",
   "metadata": {},
   "source": [
    "- CommonJS uses the `require('.file.js')` syntaxt for importing, ESM uses `import stuff from './module.js'`;\n",
    "- CommonJS uses the `module.exports = ` syntax for exporting, ESM uses `export`;\n",
    "- CommonJS file can use the `.cjs` extension to tell Node that they are in CommonJS, ESM file can use the `.mjs`;\n",
    "- CommonJs is not supported on browsers;\n",
    "- ESM is supported by all modern browsers;\n",
    "- ESM does not work at all in Node versions below 12;\n",
    "- The `'use strict'` mode is native on ESM;\n",
    "- The 'require' function, if it finds nothing, returns undefined and you didn't even notice it; 'import', on the other hand, validates if the module really exists;\n",
    "- ESM is asynchronous upon CommonJS, which allows for top-level await;\n",
    "- Tons of the core JavaScript ecosystem tooling was developed in Node, and Node only recently started to support ESM, so a huge fraction of existing Node projects are in CommonJS."
   ]
  },
  {
   "cell_type": "markdown",
   "id": "44d5a75f-b429-4b80-8011-27c12e690f87",
   "metadata": {},
   "source": [
    "## Is ESM asynchronous?\n",
    "---"
   ]
  },
  {
   "cell_type": "markdown",
   "id": "6e8908c1-5370-486c-9b7c-71466a77f4ab",
   "metadata": {},
   "source": [
    "In the context of ESM, \"asynchronous\" refers to the way that modules are loaded and evaluated. When you use the `import` statement in an ESM module to import another module, the importing module doesn't block and wait for the imported module to be fully loaded and evaluated before continuing to execute. Instead, the `import` statement returns a special value called a <mark>\"module namespace object\" that represents the imported module</mark>, and the rest of the importing module continues to execute. The imported module is loaded and evaluated in the background, and as soon as it's ready, it's linked to the importing module and its exports become available for use."
   ]
  },
  {
   "cell_type": "markdown",
   "id": "a7b9c415-7075-40f1-804f-952dfe61bf89",
   "metadata": {},
   "source": [
    "So, in a sense, you could say that everything in ESM is asynchronous, in that the loading and evaluating of modules happens in the background and doesn't block the execution of the importing module."
   ]
  },
  {
   "cell_type": "markdown",
   "id": "27ae6356-e83a-43d4-9070-c764ef44054a",
   "metadata": {
    "tags": []
   },
   "source": [
    "# References\n",
    "---"
   ]
  },
  {
   "cell_type": "markdown",
   "id": "4ff346cb-a0a9-4893-afd2-07253ed20570",
   "metadata": {},
   "source": [
    "- https://www.youtube.com/watch?v=Z_ZKGX8-lPw&ab_channel=ErickWendel\n",
    "- https://medium.com/@cgcrutch18/commonjs-what-why-and-how-64ed9f31aa46\n",
    "- https://chat.openai.com/"
   ]
  }
 ],
 "metadata": {
  "kernelspec": {
   "display_name": "JavaScript (Node.js)",
   "language": "javascript",
   "name": "javascript"
  },
  "language_info": {
   "file_extension": ".js",
   "mimetype": "application/javascript",
   "name": "javascript",
   "version": "19.6.0"
  }
 },
 "nbformat": 4,
 "nbformat_minor": 5
}
