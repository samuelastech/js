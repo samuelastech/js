{
 "cells": [
  {
   "cell_type": "markdown",
   "id": "bbe7752c-27bc-4f34-b60d-cec0fd9434d0",
   "metadata": {},
   "source": [
    "# Nullish value\n",
    "---"
   ]
  },
  {
   "cell_type": "markdown",
   "id": "e1c9d375-8444-4e6e-a0cf-a091c01ed57f",
   "metadata": {},
   "source": [
    "In JavaScript, a nullish value is the value which is either `null` or `undefined`. Nullish values are always falsy."
   ]
  },
  {
   "cell_type": "markdown",
   "id": "53d03e84-3a78-42ac-9b89-83dc9f6e0de3",
   "metadata": {},
   "source": [
    "*OBS: The `null` value represents the intentional absence of any value. A variable that has not been assigned a value is of type `undefined`.*"
   ]
  },
  {
   "cell_type": "markdown",
   "id": "0918ef3c-bfd1-4131-b61a-f90db47b34fc",
   "metadata": {},
   "source": [
    "## Nullish coalescing operator (??)\n",
    "---"
   ]
  },
  {
   "cell_type": "markdown",
   "id": "aece8c63-51a6-411b-ae0b-726657dadc3b",
   "metadata": {},
   "source": [
    "The nullish coalescing (??) operator is a logical operator that returns its right-hand side operand when its left-hand side operand is null or undefined, and otherwise returns its left-hand side operand."
   ]
  },
  {
   "cell_type": "code",
   "execution_count": 1,
   "id": "3a0488c6-7f84-4b5c-9f21-e3bd59620a16",
   "metadata": {},
   "outputs": [
    {
     "data": {
      "text/plain": [
       "'some string'"
      ]
     },
     "execution_count": 1,
     "metadata": {},
     "output_type": "execute_result"
    }
   ],
   "source": [
    "null ?? 'some string';"
   ]
  },
  {
   "cell_type": "code",
   "execution_count": 2,
   "id": "d3826f51-c8d7-4fc9-9d5c-97b019cadb71",
   "metadata": {},
   "outputs": [
    {
     "data": {
      "text/plain": [
       "'a dog'"
      ]
     },
     "execution_count": 2,
     "metadata": {},
     "output_type": "execute_result"
    }
   ],
   "source": [
    "undefined ?? 'a dog';"
   ]
  },
  {
   "cell_type": "code",
   "execution_count": 3,
   "id": "030d7e07-2a9b-490d-84dc-7cea381f079c",
   "metadata": {},
   "outputs": [
    {
     "data": {
      "text/plain": [
       "0"
      ]
     },
     "execution_count": 3,
     "metadata": {},
     "output_type": "execute_result"
    }
   ],
   "source": [
    "0 ?? 'does it work with a zero?';"
   ]
  },
  {
   "cell_type": "markdown",
   "id": "3201dcda-f2b2-414b-95b4-3fc967f026f2",
   "metadata": {},
   "source": [
    "## Logical OR operator (||)\n",
    "---"
   ]
  },
  {
   "cell_type": "markdown",
   "id": "49e90415-2615-41a3-b922-56d969c940ac",
   "metadata": {},
   "source": [
    "The nullish coalescing operator can be seen as a special case of the logical OR (||) operator. The latter returns the right-hand side operand if the left operand is any falsy value, not only `null` or `undefined`."
   ]
  },
  {
   "cell_type": "markdown",
   "id": "cbedcfb8-3d0f-449a-bb45-327ce3764d0c",
   "metadata": {},
   "source": [
    "So, you may encounter unexpected behaviors if you consider some falsy values as usable (`''` or `0`)."
   ]
  },
  {
   "cell_type": "code",
   "execution_count": 4,
   "id": "a41b4232-d393-42f7-83aa-e1fef52a0c42",
   "metadata": {},
   "outputs": [
    {
     "data": {
      "text/plain": [
       "'does it work with a zero?'"
      ]
     },
     "execution_count": 4,
     "metadata": {},
     "output_type": "execute_result"
    }
   ],
   "source": [
    "0 || 'does it work with a zero?';"
   ]
  },
  {
   "cell_type": "code",
   "execution_count": 5,
   "id": "2928481c-0958-4cc9-b88a-5667fb69a647",
   "metadata": {},
   "outputs": [
    {
     "data": {
      "text/plain": [
       "'empty string'"
      ]
     },
     "execution_count": 5,
     "metadata": {},
     "output_type": "execute_result"
    }
   ],
   "source": [
    "'' || 'empty string';"
   ]
  },
  {
   "cell_type": "code",
   "execution_count": 6,
   "id": "1f5767d3-c0a7-4758-a506-55c912c58d85",
   "metadata": {},
   "outputs": [
    {
     "data": {
      "text/plain": [
       "null"
      ]
     },
     "execution_count": 6,
     "metadata": {},
     "output_type": "execute_result"
    }
   ],
   "source": [
    "0 || null;"
   ]
  },
  {
   "cell_type": "markdown",
   "id": "abe46672-946e-4ed8-9f0a-277c6259510b",
   "metadata": {
    "tags": []
   },
   "source": [
    "# References\n",
    "---"
   ]
  },
  {
   "cell_type": "markdown",
   "id": "1c772864-4974-42bd-9870-1298bc3c3340",
   "metadata": {},
   "source": [
    "- https://developer.mozilla.org/en-US/docs/Glossary/Nullish;\n",
    "- https://developer.mozilla.org/en-US/docs/Web/JavaScript/Reference/Operators/null;\n",
    "- https://developer.mozilla.org/en-US/docs/Web/JavaScript/Reference/Global_Objects/undefined;\n",
    "- https://developer.mozilla.org/en-US/docs/Web/JavaScript/Reference/Operators/Nullish_coalescing."
   ]
  }
 ],
 "metadata": {
  "kernelspec": {
   "display_name": "JavaScript (Node.js)",
   "language": "javascript",
   "name": "javascript"
  },
  "language_info": {
   "file_extension": ".js",
   "mimetype": "application/javascript",
   "name": "javascript",
   "version": "19.6.0"
  }
 },
 "nbformat": 4,
 "nbformat_minor": 5
}
